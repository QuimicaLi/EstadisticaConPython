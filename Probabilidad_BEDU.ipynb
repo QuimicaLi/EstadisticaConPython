{
 "cells": [
  {
   "cell_type": "markdown",
   "id": "0afa36fd",
   "metadata": {},
   "source": [
    "# ESTUDIO DE CASO"
   ]
  },
  {
   "cell_type": "markdown",
   "id": "e62e65ce",
   "metadata": {},
   "source": [
    "Una empresa de logística especializada en la distribución de insumos como parte de la cadena de suministros de otras empresas productoras ubicadas en el norte y sur del país, quiere conocer qué tan probable es que la empresa supere los $30,000 de facturación este año. \n",
    "\n",
    "Esta problemática es de interés para muchas empresas que operan a gran escala y en diferentes ubicaciones geográficas, ya que esto les permite conocer cuáles son las zonas de oportunidad donde pueden realizar reingenierías de procesos, inversión en infraestructura, mejorar los métodos de marketing, etcétera.\n",
    "\n",
    "Contamos con los datos de las últimas 50 facturas realizadas el año anterior junto con la ubicación geográfica del contratista."
   ]
  },
  {
   "cell_type": "code",
   "execution_count": 9,
   "id": "b2c7ab11",
   "metadata": {},
   "outputs": [],
   "source": [
    "#Importamos las librerías que podríamos necesitar\n",
    "import pandas as pd\n",
    "import matplotlib.pyplot as plt\n",
    "import seaborn as sns\n",
    "from scipy.stats import norm"
   ]
  },
  {
   "cell_type": "code",
   "execution_count": 10,
   "id": "bf93622f",
   "metadata": {},
   "outputs": [
    {
     "data": {
      "text/html": [
       "<div>\n",
       "<style scoped>\n",
       "    .dataframe tbody tr th:only-of-type {\n",
       "        vertical-align: middle;\n",
       "    }\n",
       "\n",
       "    .dataframe tbody tr th {\n",
       "        vertical-align: top;\n",
       "    }\n",
       "\n",
       "    .dataframe thead th {\n",
       "        text-align: right;\n",
       "    }\n",
       "</style>\n",
       "<table border=\"1\" class=\"dataframe\">\n",
       "  <thead>\n",
       "    <tr style=\"text-align: right;\">\n",
       "      <th></th>\n",
       "      <th>Monto factura</th>\n",
       "      <th>Zona</th>\n",
       "    </tr>\n",
       "    <tr>\n",
       "      <th>ID</th>\n",
       "      <th></th>\n",
       "      <th></th>\n",
       "    </tr>\n",
       "  </thead>\n",
       "  <tbody>\n",
       "    <tr>\n",
       "      <th>1</th>\n",
       "      <td>27391.4</td>\n",
       "      <td>NORTE</td>\n",
       "    </tr>\n",
       "    <tr>\n",
       "      <th>2</th>\n",
       "      <td>15925.6</td>\n",
       "      <td>NORTE</td>\n",
       "    </tr>\n",
       "    <tr>\n",
       "      <th>3</th>\n",
       "      <td>33742.5</td>\n",
       "      <td>NORTE</td>\n",
       "    </tr>\n",
       "    <tr>\n",
       "      <th>4</th>\n",
       "      <td>36444.8</td>\n",
       "      <td>NORTE</td>\n",
       "    </tr>\n",
       "    <tr>\n",
       "      <th>5</th>\n",
       "      <td>22172.9</td>\n",
       "      <td>SUR</td>\n",
       "    </tr>\n",
       "  </tbody>\n",
       "</table>\n",
       "</div>"
      ],
      "text/plain": [
       "    Monto factura   Zona\n",
       "ID                      \n",
       "1         27391.4  NORTE\n",
       "2         15925.6  NORTE\n",
       "3         33742.5  NORTE\n",
       "4         36444.8  NORTE\n",
       "5         22172.9    SUR"
      ]
     },
     "execution_count": 10,
     "metadata": {},
     "output_type": "execute_result"
    }
   ],
   "source": [
    "df = pd.read_csv('Ejercicio1.csv', index_col = 0)\n",
    "df.head()"
   ]
  },
  {
   "cell_type": "code",
   "execution_count": 14,
   "id": "392c9d9f",
   "metadata": {},
   "outputs": [
    {
     "data": {
      "image/png": "[encoded data removed]",
      "text/plain": [
       "<Figure size 640x480 with 1 Axes>"
      ]
     },
     "metadata": {},
     "output_type": "display_data"
    }
   ],
   "source": [
    "# realizamos un histograma por zona para visualizar la distribución de los datos.\n",
    "df.groupby('Zona')['Monto factura'].plot(kind='hist', bins=5, alpha=0.5, legend=True)\n",
    "plt.xlabel('Monto factura')\n",
    "plt.ylabel('Frecuencia')\n",
    "plt.title('Monto de facturación por zona')\n",
    "plt.show()"
   ]
  },
  {
   "cell_type": "markdown",
   "id": "8555e2ed",
   "metadata": {},
   "source": [
    "Podemos decir que ambas zonas tienen cierta simetría y forma de campana, por lo que podemos usar la distribución normal para modelar la probabilidad del monto de facturación.\n"
   ]
  },
  {
   "cell_type": "code",
   "execution_count": 15,
   "id": "91bea2f4",
   "metadata": {},
   "outputs": [
    {
     "name": "stdout",
     "output_type": "stream",
     "text": [
      "Probabilidad en la zona Norte: 44.02%\n",
      "Probabilidad en la zona Sur: 29.44%\n"
     ]
    }
   ],
   "source": [
    "# Calcular los parámetros por zona\n",
    "zona_norte = df[df['Zona'] == 'NORTE']\n",
    "zona_sur = df[df['Zona'] == 'SUR']\n",
    "\n",
    "mean_norte = zona_norte['Monto factura'].mean()\n",
    "std_norte = zona_norte['Monto factura'].std()\n",
    "\n",
    "mean_sur = zona_sur['Monto factura'].mean()\n",
    "std_sur = zona_sur['Monto factura'].std()\n",
    "\n",
    "# Calcular el z-score por zona\n",
    "meta = 30000\n",
    "\n",
    "z_score_norte = (meta - mean_norte) / std_norte\n",
    "z_score_sur = (meta - mean_sur) / std_sur\n",
    "\n",
    "# Calcular la probabilidad utilizando la función de distribución acumulativa (CDF)\n",
    "probability_norte = 1 - norm.cdf(z_score_norte)\n",
    "probability_sur = 1 - norm.cdf(z_score_sur)\n",
    "\n",
    "# Imprimir las probabilidades por zona\n",
    "print(f\"Probabilidad en la zona Norte: {probability_norte:.2%}\")\n",
    "print(f\"Probabilidad en la zona Sur: {probability_sur:.2%}\")\n"
   ]
  }
 ],
 "metadata": {
  "kernelspec": {
   "display_name": "Python 3 (ipykernel)",
   "language": "python",
   "name": "python3"
  },
  "language_info": {
   "codemirror_mode": {
    "name": "ipython",
    "version": 3
   },
   "file_extension": ".py",
   "mimetype": "text/x-python",
   "name": "python",
   "nbconvert_exporter": "python",
   "pygments_lexer": "ipython3",
   "version": "3.10.9"
  }
 },
 "nbformat": 4,
 "nbformat_minor": 5
}
